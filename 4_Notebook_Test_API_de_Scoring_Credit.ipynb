{
 "cells": [
  {
   "cell_type": "markdown",
   "id": "79f3e5d2-cc18-4a25-b264-bdb9946023a3",
   "metadata": {},
   "source": [
    "# Notebook 5 : Test de l'API de Scoring Crédit\n",
    "\n",
    "Ce notebook teste l'API de scoring crédit déployée sur Railway avec les 2 clients spécifiques analysés dans le Notebook 3 : ID 243023 (haut risque) et ID 288878 (faible risque).\n",
    "\n",
    "## Objectifs\n",
    "\n",
    "- Tester la connectivité de l'API (/health)\n",
    "- Valider le fonctionnement de l'endpoint de prédiction (/predict) avec les 2 clients extrêmes\n",
    "- Vérifier la cohérence des décisions avec les résultats du Notebook 3\n",
    "- Démontrer la reproductibilité des prédictions"
   ]
  },
  {
   "cell_type": "markdown",
   "id": "b957a973-fd44-457a-af27-399ebf02cbf2",
   "metadata": {},
   "source": [
    "# Impots et configuration"
   ]
  },
  {
   "cell_type": "code",
   "execution_count": 1,
   "id": "8e02eb9c-e9cd-4cf7-8eb8-717a4d65bb81",
   "metadata": {},
   "outputs": [
    {
     "name": "stdout",
     "output_type": "stream",
     "text": [
      "URL de l'API: https://reliable-vitality-production.up.railway.app\n",
      "Date du test: 2025-06-12 11:18:58\n"
     ]
    }
   ],
   "source": [
    "import requests\n",
    "import json\n",
    "import pandas as pd\n",
    "import numpy as np\n",
    "from datetime import datetime\n",
    "\n",
    "# Configuration de l'API\n",
    "API_BASE_URL = \"https://reliable-vitality-production.up.railway.app\"\n",
    "HEALTH_URL = f\"{API_BASE_URL}/health\"\n",
    "PREDICT_URL = f\"{API_BASE_URL}/predict\"\n",
    "\n",
    "print(f\"URL de l'API: {API_BASE_URL}\")\n",
    "print(f\"Date du test: {datetime.now().strftime('%Y-%m-%d %H:%M:%S')}\")"
   ]
  },
  {
   "cell_type": "markdown",
   "id": "76ea93c1-5710-45af-bc2e-ec0d9199c202",
   "metadata": {},
   "source": [
    "# Extraction des 2 clients extrêmes du notebook 3 (SHAP local)"
   ]
  },
  {
   "cell_type": "code",
   "execution_count": 2,
   "id": "9b9b2d12-9c20-4437-acc1-e2f44ec5c30e",
   "metadata": {},
   "outputs": [
    {
     "name": "stdout",
     "output_type": "stream",
     "text": [
      "Données chargées depuis: ../data/processed/train_preprocessed.csv\n",
      " Client 243023 trouvé dans les données\n",
      " Client 288878 trouvé dans les données\n"
     ]
    }
   ],
   "source": [
    "# IDs des clients extrêmes identifiés dans le Notebook 3\n",
    "client_haut_risque_id = 243023\n",
    "client_faible_risque_id = 288878\n",
    "\n",
    "# Charger les données preprocessées\n",
    "try:\n",
    "    # Essayer différents chemins possibles\n",
    "    possible_paths = [\n",
    "        'data/processed/train_preprocessed.csv',\n",
    "        '../data/processed/train_preprocessed.csv',\n",
    "        'train_preprocessed.csv'\n",
    "    ]\n",
    "    \n",
    "    data = None\n",
    "    for path in possible_paths:\n",
    "        try:\n",
    "            data = pd.read_csv(path, index_col='SK_ID_CURR')\n",
    "            print(f\"Données chargées depuis: {path}\")\n",
    "            break\n",
    "        except FileNotFoundError:\n",
    "            continue\n",
    "    \n",
    "    if data is None:\n",
    "        raise FileNotFoundError(\"Aucun fichier train_preprocessed.csv trouvé dans les chemins testés\")\n",
    "        \n",
    "except Exception as e:\n",
    "    print(f\" Erreur lors du chargement: {e}\")\n",
    "    print(\"Chemins testés:\")\n",
    "    for path in possible_paths:\n",
    "        print(f\"  - {path}\")\n",
    "    # Arrêter l'exécution si pas de données\n",
    "    raise\n",
    "\n",
    "# Supprimer TARGET présent\n",
    "if 'TARGET' in data.columns:\n",
    "    data = data.drop('TARGET', axis=1)\n",
    "\n",
    "# Vérifier que les clients sont présents\n",
    "clients_presents = []\n",
    "for client_id in [client_haut_risque_id, client_faible_risque_id]:\n",
    "    if client_id in data.index:\n",
    "        clients_presents.append(client_id)\n",
    "        print(f\" Client {client_id} trouvé dans les données\")\n",
    "    else:\n",
    "        print(f\" Client {client_id} non trouvé dans les données\")\n",
    "\n",
    "if len(clients_presents) != 2:\n",
    "    print(\" Impossible de continuer sans les 2 clients requis\")\n",
    "    exit()\n",
    "\n",
    "# Fonction de nettoyage des données pour JSON\n",
    "def clean_data_for_json(data_dict):\n",
    "    \"\"\"Nettoie les données pour les rendre compatibles JSON\"\"\"\n",
    "    cleaned = {}\n",
    "    for key, value in data_dict.items():\n",
    "        if pd.isna(value):\n",
    "            cleaned[key] = 0.0\n",
    "        elif np.isinf(value):\n",
    "            cleaned[key] = 0.0\n",
    "        elif isinstance(value, (np.integer, np.floating)):\n",
    "            cleaned[key] = float(value)\n",
    "        else:\n",
    "            cleaned[key] = value\n",
    "    return cleaned\n",
    "\n",
    "# Extraire les 2 clients extrêmes\n",
    "client_haut_risque_raw = data.loc[client_haut_risque_id].to_dict()\n",
    "client_faible_risque_raw = data.loc[client_faible_risque_id].to_dict()\n",
    "\n",
    "# Nettoyer les données pour JSON\n",
    "client_haut_risque = clean_data_for_json(client_haut_risque_raw)\n",
    "client_faible_risque = clean_data_for_json(client_faible_risque_raw)"
   ]
  },
  {
   "cell_type": "markdown",
   "id": "e10751b5-93c6-4753-a303-2595366b4f92",
   "metadata": {},
   "source": [
    "# Endpoint /health"
   ]
  },
  {
   "cell_type": "code",
   "execution_count": 3,
   "id": "15e6a81a-000b-4ba9-af62-d348e8f1d443",
   "metadata": {},
   "outputs": [
    {
     "name": "stdout",
     "output_type": "stream",
     "text": [
      "Status: Réussi\n",
      "Code de réponse: 200\n",
      "\n",
      "Contenu de la réponse:\n",
      "{\n",
      "  \"features_count\": 234,\n",
      "  \"model\": \"LightGBM Optimized\",\n",
      "  \"platform\": \"Railway\",\n",
      "  \"service\": \"Credit Scoring API\",\n",
      "  \"status\": \"ONLINE\",\n",
      "  \"threshold\": 0.09909090909090908,\n",
      "  \"version\": \"RAILWAY_V2\"\n",
      "}\n",
      "Service en ligne OK\n",
      "Nombre de features correct (234) OK\n",
      "Modèle correct OK\n",
      "Seuil optimal présent OK\n"
     ]
    }
   ],
   "source": [
    "try:\n",
    "    response = requests.get(HEALTH_URL, timeout=10)\n",
    "    print(f\"Status: {'Réussi' if response.status_code == 200 else 'Echec'}\")\n",
    "    print(f\"Code de réponse: {response.status_code}\")\n",
    "    \n",
    "    if response.status_code == 200:\n",
    "        health_data = response.json()\n",
    "        print(\"\\nContenu de la réponse:\")\n",
    "        print(json.dumps(health_data, indent=2, ensure_ascii=False))\n",
    "        \n",
    "        # Validations spécifiques\n",
    "        validations = [\n",
    "            (health_data.get(\"status\") == \"ONLINE\", \"Service en ligne\"),\n",
    "            (health_data.get(\"features_count\") == 234, \"Nombre de features correct (234)\"),\n",
    "            (health_data.get(\"model\") == \"LightGBM Optimized\", \"Modèle correct\"),\n",
    "            (\"threshold\" in health_data, \"Seuil optimal présent\")\n",
    "        ]\n",
    "        \n",
    "        for validation, message in validations:\n",
    "            print(f\"{message} {'OK' if validation else 'KO'}\")\n",
    "            \n",
    "except Exception as e:\n",
    "    print(f\"Erreur lors du test /health: {e}\")"
   ]
  },
  {
   "cell_type": "markdown",
   "id": "02f0b22e-1155-433d-aef6-9dd263da3647",
   "metadata": {},
   "source": [
    "# Prédiction des 2 clients"
   ]
  },
  {
   "cell_type": "code",
   "execution_count": 4,
   "id": "655a3040-5f56-4d63-b59c-ed73e661bc39",
   "metadata": {},
   "outputs": [
    {
     "name": "stdout",
     "output_type": "stream",
     "text": [
      "\n",
      "Client Haut Risque REFUSE DANS SHAP (ID: 243023)\n",
      "Status:  Réussi\n",
      "Décision: REFUSE\n",
      "\n",
      "Client Faible Risque ACCORDE DANS SHAP (ID: 288878)\n",
      "Status:  Réussi\n",
      "Décision: ACCORDE\n"
     ]
    }
   ],
   "source": [
    "def tester_prediction(client_data, nom_profil):\n",
    "    \"\"\"Teste une prédiction et affiche le statut et la décision\"\"\"\n",
    "    try:\n",
    "        response = requests.post(\n",
    "            PREDICT_URL, \n",
    "            json=client_data,\n",
    "            headers={\"Content-Type\": \"application/json\"},\n",
    "            timeout=15\n",
    "        )\n",
    "        \n",
    "        print(f\"\\n{nom_profil}\")\n",
    "        status = \" Réussi\" if response.status_code == 200 else \"Echec\"\n",
    "        print(f\"Status: {status}\")\n",
    "        \n",
    "        if response.status_code == 200:\n",
    "            prediction = response.json()\n",
    "            decision = prediction.get('decision', 'N/A')\n",
    "            print(f\"Décision: {decision}\")\n",
    "            return prediction\n",
    "        else:\n",
    "            print(f\"Décision: Erreur (Code {response.status_code})\")\n",
    "            return None\n",
    "            \n",
    "    except Exception as e:\n",
    "        print(f\"Status: Echec\")\n",
    "        print(f\"Décision: Erreur ({e})\")\n",
    "        return None\n",
    "\n",
    "# Tester les 2 clients\n",
    "prediction_haut_risque = tester_prediction(\n",
    "    client_haut_risque, \n",
    "    f\"Client Haut Risque REFUSE DANS SHAP (ID: {client_haut_risque_id})\"\n",
    ")\n",
    "\n",
    "prediction_faible_risque = tester_prediction(\n",
    "    client_faible_risque, \n",
    "    f\"Client Faible Risque ACCORDE DANS SHAP (ID: {client_faible_risque_id})\"\n",
    ")"
   ]
  }
 ],
 "metadata": {
  "kernelspec": {
   "display_name": "Python 3 (ipykernel)",
   "language": "python",
   "name": "python3"
  },
  "language_info": {
   "codemirror_mode": {
    "name": "ipython",
    "version": 3
   },
   "file_extension": ".py",
   "mimetype": "text/x-python",
   "name": "python",
   "nbconvert_exporter": "python",
   "pygments_lexer": "ipython3",
   "version": "3.11.11"
  }
 },
 "nbformat": 4,
 "nbformat_minor": 5
}
